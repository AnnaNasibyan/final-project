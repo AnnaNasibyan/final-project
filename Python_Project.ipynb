{
  "nbformat": 4,
  "nbformat_minor": 0,
  "metadata": {
    "colab": {
      "provenance": [],
      "authorship_tag": "ABX9TyObfUTKF4lw8m5DeO+MQTH3",
      "include_colab_link": true
    },
    "kernelspec": {
      "name": "python3",
      "display_name": "Python 3"
    },
    "language_info": {
      "name": "python"
    }
  },
  "cells": [
    {
      "cell_type": "markdown",
      "metadata": {
        "id": "view-in-github",
        "colab_type": "text"
      },
      "source": [
        "<a href=\"https://colab.research.google.com/github/AnnaNasibyan/final-project/blob/main/Python_Project.ipynb\" target=\"_parent\"><img src=\"https://colab.research.google.com/assets/colab-badge.svg\" alt=\"Open In Colab\"/></a>"
      ]
    },
    {
      "cell_type": "markdown",
      "source": [
        "\n",
        "\n",
        "\n",
        "# Processing and Cleaning the Data"
      ],
      "metadata": {
        "id": "7TMdfCnJk2Ww"
      }
    },
    {
      "cell_type": "code",
      "execution_count": null,
      "metadata": {
        "colab": {
          "base_uri": "https://localhost:8080/"
        },
        "id": "DqJqE-5Qk066",
        "outputId": "ffa15fd2-d54b-4481-f270-68376114fa29"
      },
      "outputs": [
        {
          "output_type": "stream",
          "name": "stdout",
          "text": [
            "Mounted at /content/drive\n"
          ]
        }
      ],
      "source": [
        "from google.colab import drive\n",
        "drive.mount('/content/drive')"
      ]
    },
    {
      "cell_type": "code",
      "source": [
        "!ls /content/drive/MyDrive"
      ],
      "metadata": {
        "colab": {
          "base_uri": "https://localhost:8080/"
        },
        "id": "6rDW4O3Xlb-l",
        "outputId": "8ae6517e-14bd-4894-9337-58006c9a9694"
      },
      "execution_count": null,
      "outputs": [
        {
          "output_type": "stream",
          "name": "stdout",
          "text": [
            " Colab\n",
            "'Colab Notebooks'\n",
            "'CV - Anna Nasibyan .pdf'\n",
            " doc_1060913_The_IFEP_Networking_Event_2024_Preliminary_List_e9841564-924a-4d83-a531-f05463fd47ff_11197858.pdf\n",
            "'Email to Sarah.gdoc'\n",
            "'MIINT Conference - Spring Semester To-do list.gdoc'\n",
            " Project\n",
            "'Resume - Anna Nasibyan  (1).pdf'\n",
            "'Resume - Anna Nasibyan  (2).pdf'\n",
            "'Resume - Anna Nasibyan .pdf'\n",
            "'The Securitization of Forced Migration by Anne Hammerstadt.gslides'\n",
            " Untitled0.ipynb\n",
            "'Week 4 Python'\n"
          ]
        }
      ]
    },
    {
      "cell_type": "code",
      "source": [
        "import os\n",
        "\n",
        "\n",
        "project_path = '/content/drive/MyDrive/Project'\n",
        "os.chdir(project_path)\n",
        "\n",
        "\n",
        "!ls"
      ],
      "metadata": {
        "colab": {
          "base_uri": "https://localhost:8080/"
        },
        "id": "nHdErtG8lg8V",
        "outputId": "fb492913-22d6-4c43-bbc0-01e0366d8fb7"
      },
      "execution_count": null,
      "outputs": [
        {
          "output_type": "stream",
          "name": "stdout",
          "text": [
            " cleaned_data_metadata.csv   Processed\t'Python Presentation - Anna .gslides'   Raw\n"
          ]
        }
      ]
    },
    {
      "cell_type": "code",
      "source": [
        "output_path = '/content/drive/MyDrive/Project/Processed'\n",
        "os.chdir(output_path)"
      ],
      "metadata": {
        "id": "H1k1XRyF_RxC"
      },
      "execution_count": null,
      "outputs": []
    },
    {
      "cell_type": "code",
      "source": [
        "raw_data_path = '/content/drive/MyDrive/Project/Raw'\n",
        "os.chdir(raw_data_path)\n"
      ],
      "metadata": {
        "id": "fkvuXcZP_fcN"
      },
      "execution_count": null,
      "outputs": []
    },
    {
      "cell_type": "code",
      "source": [
        "!pip install pymupdf\n",
        "import os\n",
        "import fitz  # PyMuPDF\n",
        "import nltk\n",
        "import re\n",
        "from nltk.corpus import stopwords\n",
        "from nltk.tokenize import word_tokenize\n",
        "\n",
        "nltk.download('stopwords')\n",
        "nltk.download('punkt')\n",
        "\n",
        "\n"
      ],
      "metadata": {
        "colab": {
          "base_uri": "https://localhost:8080/"
        },
        "id": "C8Fy1ddAn1TB",
        "outputId": "93f34a81-d66c-4c13-84f1-af28871ac061"
      },
      "execution_count": null,
      "outputs": [
        {
          "output_type": "stream",
          "name": "stdout",
          "text": [
            "Collecting pymupdf\n",
            "  Downloading pymupdf-1.25.1-cp39-abi3-manylinux2014_x86_64.manylinux_2_17_x86_64.whl.metadata (3.4 kB)\n",
            "Downloading pymupdf-1.25.1-cp39-abi3-manylinux2014_x86_64.manylinux_2_17_x86_64.whl (20.0 MB)\n",
            "\u001b[2K   \u001b[90m━━━━━━━━━━━━━━━━━━━━━━━━━━━━━━━━━━━━━━━━\u001b[0m \u001b[32m20.0/20.0 MB\u001b[0m \u001b[31m51.0 MB/s\u001b[0m eta \u001b[36m0:00:00\u001b[0m\n",
            "\u001b[?25hInstalling collected packages: pymupdf\n",
            "Successfully installed pymupdf-1.25.1\n"
          ]
        },
        {
          "output_type": "stream",
          "name": "stderr",
          "text": [
            "[nltk_data] Downloading package stopwords to /root/nltk_data...\n",
            "[nltk_data]   Unzipping corpora/stopwords.zip.\n",
            "[nltk_data] Downloading package punkt to /root/nltk_data...\n",
            "[nltk_data]   Unzipping tokenizers/punkt.zip.\n"
          ]
        },
        {
          "output_type": "execute_result",
          "data": {
            "text/plain": [
              "True"
            ]
          },
          "metadata": {},
          "execution_count": 7
        }
      ]
    },
    {
      "cell_type": "code",
      "source": [
        "print(\"Files in Raw data folder:\")\n",
        "print(os.listdir(raw_data_path))"
      ],
      "metadata": {
        "colab": {
          "base_uri": "https://localhost:8080/"
        },
        "id": "1XA_iweHAmMO",
        "outputId": "fbafe19f-f731-474a-ab9e-9a703359bb87"
      },
      "execution_count": null,
      "outputs": [
        {
          "output_type": "stream",
          "name": "stdout",
          "text": [
            "Files in Raw data folder:\n",
            "['ALSTOM', 'SIEMENS DEAL', 'NVIDIA', 'SHIRE', 'Bayer']\n"
          ]
        }
      ]
    },
    {
      "cell_type": "code",
      "source": [
        "import os\n",
        "import fitz  # PyMuPDF\n",
        "\n",
        "# Function to extract text from a PDF\n",
        "def extract_text_from_pdf(pdf_path):\n",
        "    with fitz.open(pdf_path) as pdf:\n",
        "        text = \"\"\n",
        "        for page in pdf:\n",
        "            text += page.get_text()\n",
        "    return text\n",
        "\n",
        "# Loop through all subfolders and process PDFs\n",
        "for folder in os.listdir(raw_data_path):\n",
        "    folder_path = os.path.join(raw_data_path, folder)\n",
        "    if os.path.isdir(folder_path):  # Check if it's a folder\n",
        "        print(f\"Checking folder: {folder}\")\n",
        "\n",
        "        for file in os.listdir(folder_path):\n",
        "            if file.endswith('.pdf'):  # Only process PDFs\n",
        "                pdf_path = os.path.join(folder_path, file)\n",
        "                print(f\"Processing: {pdf_path}\")\n",
        "\n",
        "                # Extract text from PDF\n",
        "                text = extract_text_from_pdf(pdf_path)\n",
        "\n",
        "                # Save extracted text to a .txt file in Processed Data\n",
        "                output_file = os.path.join(output_path, f\"{folder}_{file.replace('.pdf', '.txt')}\")\n",
        "                with open(output_file, 'w', encoding='utf-8') as f:\n",
        "                    f.write(text)\n",
        "\n",
        "                print(f\"Processed and saved: {output_file}\")\n",
        "\n",
        "print(\"Text extraction complete! Check the 'Processed Data' folder.\")"
      ],
      "metadata": {
        "colab": {
          "base_uri": "https://localhost:8080/"
        },
        "id": "N8pH4xLvA52C",
        "outputId": "2bf984ef-0739-4918-c770-b24a33d8a9ca"
      },
      "execution_count": null,
      "outputs": [
        {
          "output_type": "stream",
          "name": "stdout",
          "text": [
            "Checking folder: ALSTOM\n",
            "Processing: /content/drive/MyDrive/Project/Raw/ALSTOM/GE_Alstom_ EC opens in-depth investigation.pdf\n",
            "Processed and saved: /content/drive/MyDrive/Project/Processed/ALSTOM_GE_Alstom_ EC opens in-depth investigation.txt\n",
            "Processing: /content/drive/MyDrive/Project/Raw/ALSTOM/GE's Acquisition of Alstom's Power and Grid Business Is Official.pdf\n",
            "Processed and saved: /content/drive/MyDrive/Project/Processed/ALSTOM_GE's Acquisition of Alstom's Power and Grid Business Is Official.txt\n",
            "Processing: /content/drive/MyDrive/Project/Raw/ALSTOM/Federal Register __ United States v. General Electric Company, et al.; Proposed Final Judgment and Competitive Impact Statement.pdf\n",
            "Processed and saved: /content/drive/MyDrive/Project/Processed/ALSTOM_Federal Register __ United States v. General Electric Company, et al.; Proposed Final Judgment and Competitive Impact Statement.txt\n",
            "Processing: /content/drive/MyDrive/Project/Raw/ALSTOM/GE says Alstom power deal on pace for mid-2015 closing _ Reuters.pdf\n",
            "Processed and saved: /content/drive/MyDrive/Project/Processed/ALSTOM_GE says Alstom power deal on pace for mid-2015 closing _ Reuters.txt\n",
            "Processing: /content/drive/MyDrive/Project/Raw/ALSTOM/General Electric (GE) - GE completes acquisition of Alstom... - Europétrole.pdf\n",
            "Processed and saved: /content/drive/MyDrive/Project/Processed/ALSTOM_General Electric (GE) - GE completes acquisition of Alstom... - Europétrole.txt\n",
            "Checking folder: SIEMENS DEAL\n",
            "Processing: /content/drive/MyDrive/Project/Raw/SIEMENS DEAL/SIemens Case EU.pdf\n",
            "Processed and saved: /content/drive/MyDrive/Project/Processed/SIEMENS DEAL_SIemens Case EU.txt\n",
            "Processing: /content/drive/MyDrive/Project/Raw/SIEMENS DEAL/Siemens makes $7.6bn Dresser-Rand bet — Financier Worldwide.pdf\n",
            "Processed and saved: /content/drive/MyDrive/Project/Processed/SIEMENS DEAL_Siemens makes $7.6bn Dresser-Rand bet — Financier Worldwide.txt\n",
            "Processing: /content/drive/MyDrive/Project/Raw/SIEMENS DEAL/Dresser-Rand Signs Agreement To Sell To Siemens For Approximately $7.6 Billion In An All Cash Transaction.pdf\n",
            "Processed and saved: /content/drive/MyDrive/Project/Processed/SIEMENS DEAL_Dresser-Rand Signs Agreement To Sell To Siemens For Approximately $7.6 Billion In An All Cash Transaction.txt\n",
            "Processing: /content/drive/MyDrive/Project/Raw/SIEMENS DEAL/Siemens Agrees to Buy Dresser-Rand, an Oil Services Company, for $7.6 Billion - The New York Times.pdf\n",
            "Processed and saved: /content/drive/MyDrive/Project/Processed/SIEMENS DEAL_Siemens Agrees to Buy Dresser-Rand, an Oil Services Company, for $7.6 Billion - The New York Times.txt\n",
            "Processing: /content/drive/MyDrive/Project/Raw/SIEMENS DEAL/http___www.iflr.com_Article_3475863_Corporate_Siemens-Dresser-R.pdf\n",
            "Processed and saved: /content/drive/MyDrive/Project/Processed/SIEMENS DEAL_http___www.iflr.com_Article_3475863_Corporate_Siemens-Dresser-R.txt\n",
            "Processing: /content/drive/MyDrive/Project/Raw/SIEMENS DEAL/Siemens buys US oil and gas firm Dresser-Rand - BBC News.pdf\n",
            "Processed and saved: /content/drive/MyDrive/Project/Processed/SIEMENS DEAL_Siemens buys US oil and gas firm Dresser-Rand - BBC News.txt\n",
            "Processing: /content/drive/MyDrive/Project/Raw/SIEMENS DEAL/Siemens defends $7.6bn Dresser-Rand deal.pdf\n",
            "Processed and saved: /content/drive/MyDrive/Project/Processed/SIEMENS DEAL_Siemens defends $7.6bn Dresser-Rand deal.txt\n",
            "Checking folder: NVIDIA\n",
            "Processing: /content/drive/MyDrive/Project/Raw/NVIDIA/Nvidia bid for Arm_ UK orders competition investigation _ Arm _ The Guardian.pdf\n",
            "Processed and saved: /content/drive/MyDrive/Project/Processed/NVIDIA_Nvidia bid for Arm_ UK orders competition investigation _ Arm _ The Guardian.txt\n",
            "Processing: /content/drive/MyDrive/Project/Raw/NVIDIA/FTC Challenges Nvidia’s Deal for Arm Holdings - WSJ.pdf\n",
            "Processed and saved: /content/drive/MyDrive/Project/Processed/NVIDIA_FTC Challenges Nvidia’s Deal for Arm Holdings - WSJ.txt\n",
            "Processing: /content/drive/MyDrive/Project/Raw/NVIDIA/Nvidia's $40bn Arm takeover faces US competition investigation.pdf\n",
            "Processed and saved: /content/drive/MyDrive/Project/Processed/NVIDIA_Nvidia's $40bn Arm takeover faces US competition investigation.txt\n",
            "Processing: /content/drive/MyDrive/Project/Raw/NVIDIA/ARM_ UK-based chip designer sold to US firm Nvidia.pdf\n",
            "Processed and saved: /content/drive/MyDrive/Project/Processed/NVIDIA_ARM_ UK-based chip designer sold to US firm Nvidia.txt\n",
            "Processing: /content/drive/MyDrive/Project/Raw/NVIDIA/Arm’s v9 Architecture Explains Why Nvidia Needs To Buy It.pdf\n",
            "Processed and saved: /content/drive/MyDrive/Project/Processed/NVIDIA_Arm’s v9 Architecture Explains Why Nvidia Needs To Buy It.txt\n",
            "Processing: /content/drive/MyDrive/Project/Raw/NVIDIA/Nvidia and AMD - Chip Sector's Biggest Deals Have High Hurdles to Climb - TheStreet.pdf\n",
            "Processed and saved: /content/drive/MyDrive/Project/Processed/NVIDIA_Nvidia and AMD - Chip Sector's Biggest Deals Have High Hurdles to Climb - TheStreet.txt\n",
            "Processing: /content/drive/MyDrive/Project/Raw/NVIDIA/TFM- Cabrera Sanchez Jose.pdf\n",
            "Processed and saved: /content/drive/MyDrive/Project/Processed/NVIDIA_TFM- Cabrera Sanchez Jose.txt\n",
            "Checking folder: SHIRE\n",
            "Processing: /content/drive/MyDrive/Project/Raw/SHIRE/Shire to buy Baxalta for $32 billion – Chicago Tribune.pdf\n",
            "Processed and saved: /content/drive/MyDrive/Project/Processed/SHIRE_Shire to buy Baxalta for $32 billion – Chicago Tribune.txt\n",
            "Processing: /content/drive/MyDrive/Project/Raw/SHIRE/Shire bags Baxalta in deal worth $32bn.pdf\n",
            "Processed and saved: /content/drive/MyDrive/Project/Processed/SHIRE_Shire bags Baxalta in deal worth $32bn.txt\n",
            "Processing: /content/drive/MyDrive/Project/Raw/SHIRE/Shire to Combine with Baxalta, Creating the Global Leader in Rare Diseases.pdf\n",
            "Processed and saved: /content/drive/MyDrive/Project/Processed/SHIRE_Shire to Combine with Baxalta, Creating the Global Leader in Rare Diseases.txt\n",
            "Processing: /content/drive/MyDrive/Project/Raw/SHIRE/Shire, Baxalta Complete $32B Merger.pdf\n",
            "Processed and saved: /content/drive/MyDrive/Project/Processed/SHIRE_Shire, Baxalta Complete $32B Merger.txt\n",
            "Processing: /content/drive/MyDrive/Project/Raw/SHIRE/Drugmaker Shire to buy Baxalta for $32 billion after 6-month pursuit _ Reuters.pdf\n",
            "Processed and saved: /content/drive/MyDrive/Project/Processed/SHIRE_Drugmaker Shire to buy Baxalta for $32 billion after 6-month pursuit _ Reuters.txt\n",
            "Processing: /content/drive/MyDrive/Project/Raw/SHIRE/Shire pharmaceutical makes $30bn move for Baxalta _ Shire _ The Guardian.pdf\n",
            "Processed and saved: /content/drive/MyDrive/Project/Processed/SHIRE_Shire pharmaceutical makes $30bn move for Baxalta _ Shire _ The Guardian.txt\n",
            "Checking folder: Bayer\n",
            "Processing: /content/drive/MyDrive/Project/Raw/Bayer/Mergers_ Commission clears Bayer's acquisition of Monsanto.pdf\n",
            "Processed and saved: /content/drive/MyDrive/Project/Processed/Bayer_Mergers_ Commission clears Bayer's acquisition of Monsanto.txt\n",
            "Processing: /content/drive/MyDrive/Project/Raw/Bayer/sec.gov_Archives_edgar_data_1110783_000110465916156280_a16-20774_3ex99d2.htm.pdf\n",
            "Processed and saved: /content/drive/MyDrive/Project/Processed/Bayer_sec.gov_Archives_edgar_data_1110783_000110465916156280_a16-20774_3ex99d2.htm.txt\n",
            "Processing: /content/drive/MyDrive/Project/Raw/Bayer/Bayer and Monsanto Merger_ what role did revolving doors play_ _ Corporate Europe Observatory.pdf\n",
            "Processed and saved: /content/drive/MyDrive/Project/Processed/Bayer_Bayer and Monsanto Merger_ what role did revolving doors play_ _ Corporate Europe Observatory.txt\n",
            "Processing: /content/drive/MyDrive/Project/Raw/Bayer/White Paper_Monsanto Bayer_7.26.17.pdf\n",
            "Processed and saved: /content/drive/MyDrive/Project/Processed/Bayer_White Paper_Monsanto Bayer_7.26.17.txt\n",
            "Processing: /content/drive/MyDrive/Project/Raw/Bayer/Bayer and Monsanto to merge in mega-deal that could reshape world’s food supply - The Washington Post.pdf\n",
            "Processed and saved: /content/drive/MyDrive/Project/Processed/Bayer_Bayer and Monsanto to merge in mega-deal that could reshape world’s food supply - The Washington Post.txt\n",
            "Processing: /content/drive/MyDrive/Project/Raw/Bayer/How Bayer-Monsanto Became One of the Worst Corporate Deals—in 12 Charts - WSJ.pdf\n",
            "Processed and saved: /content/drive/MyDrive/Project/Processed/Bayer_How Bayer-Monsanto Became One of the Worst Corporate Deals—in 12 Charts - WSJ.txt\n",
            "Processing: /content/drive/MyDrive/Project/Raw/Bayer/Monsanto Merger Migraine_ Roundup Is Toxic for Bayer - DER SPIEGEL.pdf\n",
            "Processed and saved: /content/drive/MyDrive/Project/Processed/Bayer_Monsanto Merger Migraine_ Roundup Is Toxic for Bayer - DER SPIEGEL.txt\n",
            "Text extraction complete! Check the 'Processed Data' folder.\n"
          ]
        }
      ]
    },
    {
      "cell_type": "code",
      "source": [
        "!pip install nltk\n",
        "import nltk\n",
        "nltk.download('punkt_tab')\n",
        "import os\n",
        "import re\n",
        "import pandas as pd\n",
        "from nltk.corpus import stopwords\n",
        "from nltk.tokenize import word_tokenize\n",
        "import nltk\n",
        "\n",
        "nltk.download('stopwords')\n",
        "nltk.download('punkt')\n",
        "\n",
        "# Set folder paths\n",
        "processed_data_path = '/content/drive/MyDrive/Project/Processed'\n",
        "cleaned_data_path = '/content/drive/MyDrive/Project/Cleaned'\n",
        "\n",
        "# Create cleaned data folder if it doesn’t exist\n",
        "os.makedirs(cleaned_data_path, exist_ok=True)\n",
        "\n",
        "# Define irrelevant patterns to remove\n",
        "irrelevant_patterns = [\n",
        "    r'www\\.\\S+', r'subscribe now', r'advertisement', r'page \\d+ of \\d+',\n",
        "    r'share this article', r'\\brelated articles\\b', r'© \\d{4}.*', r'visit.*',\n",
        "    r'home', r'compute', r'store', r'connect', r'control', r'code', r'ai',\n",
        "    r'hpc', r'enterprise', r'hyperscale', r'cloud', r'edge', r'latest',\n",
        "    r'reject all', r'accept all cookies', r'industry news', r'health care.*',\n",
        "    r'rare diseases', r'systemic conditions', r'privacy policy', r'get started',\n",
        "    r'opted in', r'newsrooms.*', r'company news.*', r'featured.*', r'https.*', r'id.*',\n",
        "    r'adgt.*', r'ge.*', r'adgt.*', r'oil.*', r'gas.*', r'mer.*', r'baxalta.*', r'monsanto.*', r'steam.*',\n",
        "    r'en.*', r'bayer.*', r'og.*', r'trns.*', r'bn.*', r'sd.*', r'basf.*'\n",
        "]\n",
        "\n",
        "# Define keywords for sources and regions\n",
        "source_region_map = {\n",
        "    \"federal register\": \"US\", \"reuters\": \"Europe\", \"ec\": \"Europe\", \"powermagazine\": \"US\",\n",
        "    \"europetrole\": \"Europe\", \"corporate europe observatory\": \"Europe\", \"washington post\": \"US\",\n",
        "    \"wsj\": \"US\", \"der spiegel\": \"Europe\", \"sec\": \"US\", \"white paper\": \"US\", \"bbc\": \"Europe\",\n",
        "    \"next platform\": \"US\", \"the street\": \"US\", \"the guardian\": \"US\", \"telegraph\": \"Europe\",\n",
        "    \"ft\": \"Europe\", \"chicago tribune\": \"US\", \"prnewswire\": \"US\", \"gen\": \"Both\", \"iflr\": \"US\",\n",
        "    \"case eu\": \"Europe\", \"new york times\": \"US\", \"financier worldwide\": \"US\"\n",
        "}\n",
        "\n",
        "# Function to clean text\n",
        "def clean_text(text):\n",
        "    text = text.lower()\n",
        "    for pattern in irrelevant_patterns:\n",
        "        text = re.sub(pattern, '', text)\n",
        "    text = re.sub(r'[^a-zA-Z\\s]', '', text)\n",
        "    tokens = word_tokenize(text)\n",
        "    stop_words = set(stopwords.words('english'))\n",
        "    tokens = [word for word in tokens if word not in stop_words]\n",
        "    return \" \".join(tokens)\n",
        "\n",
        "# Function to determine region and source from filename or content\n",
        "def determine_region_and_source(filename):\n",
        "    filename_lower = filename.lower()\n",
        "    for keyword, region in source_region_map.items():\n",
        "        if keyword in filename_lower:\n",
        "            return region, keyword.title()\n",
        "    return \"Unknown\", \"Unknown\"\n",
        "\n",
        "# Clean all text files and store metadata\n",
        "cleaned_files_data = []\n",
        "\n",
        "for file in os.listdir(processed_data_path):\n",
        "    if file.endswith('.txt'):\n",
        "        file_path = os.path.join(processed_data_path, file)\n",
        "\n",
        "        # Determine region and source\n",
        "        region, source = determine_region_and_source(file)\n",
        "\n",
        "        # Read and clean text\n",
        "        with open(file_path, 'r', encoding='utf-8') as f:\n",
        "            raw_text = f.read()\n",
        "        cleaned_text = clean_text(raw_text)\n",
        "\n",
        "        # Save cleaned text to new file\n",
        "        cleaned_file_name = f\"cleaned_{file}\"\n",
        "        cleaned_file_path = os.path.join(cleaned_data_path, cleaned_file_name)\n",
        "        with open(cleaned_file_path, 'w', encoding='utf-8') as f:\n",
        "            f.write(cleaned_text)\n",
        "\n",
        "        # Add metadata\n",
        "        cleaned_files_data.append({\n",
        "            'File Name': file,\n",
        "            'Source': source,\n",
        "            'Region': region,\n",
        "            'Cleaned File Path': cleaned_file_path,\n",
        "            'Text Length': len(cleaned_text.split())\n",
        "        })\n",
        "        print(f\"Cleaned and saved: {cleaned_file_path}\")\n",
        "\n",
        "# Save metadata to CSV\n",
        "df = pd.DataFrame(cleaned_files_data)\n",
        "df.to_csv(os.path.join(cleaned_data_path, 'cleaned_data_metadata.csv'), index=False)\n",
        "\n",
        "print(\"Text cleaning complete! Check the 'Cleaned Data' folder and metadata CSV.\")"
      ],
      "metadata": {
        "colab": {
          "base_uri": "https://localhost:8080/"
        },
        "id": "tIi01RyRB0CP",
        "outputId": "06d8daf2-eb7c-4020-9e24-b6b7dba71486"
      },
      "execution_count": null,
      "outputs": [
        {
          "output_type": "stream",
          "name": "stdout",
          "text": [
            "Requirement already satisfied: nltk in /usr/local/lib/python3.10/dist-packages (3.9.1)\n",
            "Requirement already satisfied: click in /usr/local/lib/python3.10/dist-packages (from nltk) (8.1.7)\n",
            "Requirement already satisfied: joblib in /usr/local/lib/python3.10/dist-packages (from nltk) (1.4.2)\n",
            "Requirement already satisfied: regex>=2021.8.3 in /usr/local/lib/python3.10/dist-packages (from nltk) (2024.11.6)\n",
            "Requirement already satisfied: tqdm in /usr/local/lib/python3.10/dist-packages (from nltk) (4.67.1)\n"
          ]
        },
        {
          "output_type": "stream",
          "name": "stderr",
          "text": [
            "[nltk_data] Downloading package punkt_tab to /root/nltk_data...\n",
            "[nltk_data]   Unzipping tokenizers/punkt_tab.zip.\n",
            "[nltk_data] Downloading package stopwords to /root/nltk_data...\n",
            "[nltk_data]   Package stopwords is already up-to-date!\n",
            "[nltk_data] Downloading package punkt to /root/nltk_data...\n",
            "[nltk_data]   Package punkt is already up-to-date!\n"
          ]
        },
        {
          "output_type": "stream",
          "name": "stdout",
          "text": [
            "Cleaned and saved: /content/drive/MyDrive/Project/Cleaned/cleaned_ALSTOM_GE_Alstom_ EC opens in-depth investigation.txt\n",
            "Cleaned and saved: /content/drive/MyDrive/Project/Cleaned/cleaned_ALSTOM_Federal Register __ United States v. General Electric Company, et al.; Proposed Final Judgment and Competitive Impact Statement.txt\n",
            "Cleaned and saved: /content/drive/MyDrive/Project/Cleaned/cleaned_ALSTOM_GE says Alstom power deal on pace for mid-2015 closing _ Reuters.txt\n",
            "Cleaned and saved: /content/drive/MyDrive/Project/Cleaned/cleaned_SIEMENS DEAL_SIemens Case EU.txt\n",
            "Cleaned and saved: /content/drive/MyDrive/Project/Cleaned/cleaned_SIEMENS DEAL_Siemens makes $7.6bn Dresser-Rand bet — Financier Worldwide.txt\n",
            "Cleaned and saved: /content/drive/MyDrive/Project/Cleaned/cleaned_SIEMENS DEAL_Siemens Agrees to Buy Dresser-Rand, an Oil Services Company, for $7.6 Billion - The New York Times.txt\n",
            "Cleaned and saved: /content/drive/MyDrive/Project/Cleaned/cleaned_SIEMENS DEAL_Siemens buys US oil and gas firm Dresser-Rand - BBC News.txt\n",
            "Cleaned and saved: /content/drive/MyDrive/Project/Cleaned/cleaned_SIEMENS DEAL_Siemens defends $7.6bn Dresser-Rand deal.txt\n",
            "Cleaned and saved: /content/drive/MyDrive/Project/Cleaned/cleaned_NVIDIA_Nvidia bid for Arm_ UK orders competition investigation _ Arm _ The Guardian.txt\n",
            "Cleaned and saved: /content/drive/MyDrive/Project/Cleaned/cleaned_NVIDIA_FTC Challenges Nvidia’s Deal for Arm Holdings - WSJ.txt\n",
            "Cleaned and saved: /content/drive/MyDrive/Project/Cleaned/cleaned_SHIRE_Shire to buy Baxalta for $32 billion – Chicago Tribune.txt\n",
            "Cleaned and saved: /content/drive/MyDrive/Project/Cleaned/cleaned_SHIRE_Drugmaker Shire to buy Baxalta for $32 billion after 6-month pursuit _ Reuters.txt\n",
            "Cleaned and saved: /content/drive/MyDrive/Project/Cleaned/cleaned_SHIRE_Shire pharmaceutical makes $30bn move for Baxalta _ Shire _ The Guardian.txt\n",
            "Cleaned and saved: /content/drive/MyDrive/Project/Cleaned/cleaned_Bayer_White Paper_Monsanto Bayer_7.26.17.txt\n",
            "Cleaned and saved: /content/drive/MyDrive/Project/Cleaned/cleaned_Bayer_Bayer and Monsanto to merge in mega-deal that could reshape world’s food supply - The Washington Post.txt\n",
            "Cleaned and saved: /content/drive/MyDrive/Project/Cleaned/cleaned_Bayer_How Bayer-Monsanto Became One of the Worst Corporate Deals—in 12 Charts - WSJ.txt\n",
            "Cleaned and saved: /content/drive/MyDrive/Project/Cleaned/cleaned_Bayer_Monsanto Merger Migraine_ Roundup Is Toxic for Bayer - DER SPIEGEL.txt\n",
            "Cleaned and saved: /content/drive/MyDrive/Project/Cleaned/cleaned_ALSTOM_GE's Acquisition of Alstom's Power and Grid Business Is Officia PowerMagazine.txt\n",
            "Cleaned and saved: /content/drive/MyDrive/Project/Cleaned/cleaned_ALSTOM_General Electric (GE) - GE completes acquisition of Alstom... - Europetrole.txt\n",
            "Cleaned and saved: /content/drive/MyDrive/Project/Cleaned/cleaned_Bayer_Bayer and Monsanto Merger_ what role did revolving doors play_ _ Corporate Europe Observatory.txt\n",
            "Cleaned and saved: /content/drive/MyDrive/Project/Cleaned/cleaned_Bayer_Mergers_ Commission clears Bayer's acquisition of Monsanto EC.txt\n",
            "Cleaned and saved: /content/drive/MyDrive/Project/Cleaned/cleaned_SEC Bayer_sec.gov_Archives_edgar_data_1110783_000110465916156280_a16-20774_3ex99d2.htm.txt\n",
            "Cleaned and saved: /content/drive/MyDrive/Project/Cleaned/cleaned_NVIDIA_ARM_ UK-based chip designer sold to US firm Nvidia BBC.txt\n",
            "Cleaned and saved: /content/drive/MyDrive/Project/Cleaned/cleaned_NVIDIA_Arm’s v9 Architecture Explains Why Nvidia Needs To Buy It Next Platform .txt\n",
            "Cleaned and saved: /content/drive/MyDrive/Project/Cleaned/cleaned_NVIDIA_Nvidia and AMD - Chip Sector's Biggest Deals Have High Hurdles to Climb - The Street.txt\n",
            "Cleaned and saved: /content/drive/MyDrive/Project/Cleaned/cleaned_NVIDIA_Nvidia's $40bn Arm takeover faces US competition investigation Telegraph.txt\n",
            "Cleaned and saved: /content/drive/MyDrive/Project/Cleaned/cleaned_SHIRE_Shire bags Baxalta in deal worth $32bn FT.txt\n",
            "Cleaned and saved: /content/drive/MyDrive/Project/Cleaned/cleaned_SHIRE_Shire to Combine with Baxalta, Creating the Global Leader in Rare Diseases PRNewswire.txt\n",
            "Cleaned and saved: /content/drive/MyDrive/Project/Cleaned/cleaned_SHIRE_Shire, Baxalta Complete $32B Merger GEN.txt\n",
            "Cleaned and saved: /content/drive/MyDrive/Project/Cleaned/cleaned_IFLR SIEMENS DEAL_Corporate_Siemens-Dresser-R.txt\n",
            "Cleaned and saved: /content/drive/MyDrive/Project/Cleaned/cleaned_SIEMENS DEAL_Dresser-Rand Signs Agreement To Sell To Siemens For Approximately $7.6 Billion In An All Cash Transaction PRNewswire.txt\n",
            "Text cleaning complete! Check the 'Cleaned Data' folder and metadata CSV.\n"
          ]
        }
      ]
    }
  ]
}